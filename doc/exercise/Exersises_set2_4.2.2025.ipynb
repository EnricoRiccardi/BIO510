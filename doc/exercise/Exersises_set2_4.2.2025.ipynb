{
 "cells": [
  {
   "cell_type": "markdown",
   "id": "ab88b7b1-5d60-4bd1-ad48-2ae64b1c1a79",
   "metadata": {},
   "source": [
    "## Exercise 1: \n",
    "### DNA sequences are composed of nucleotides A, T, C, and G. \n",
    "### In this exercise, extract and return a new list containing only the 'A' nucleotides from a DNA sequence using a for loop and a function."
   ]
  },
  {
   "cell_type": "code",
   "execution_count": 2,
   "id": "5fe8a12d-279a-4b00-b65d-30f6d4675182",
   "metadata": {},
   "outputs": [
    {
     "data": {
      "text/plain": [
       "['A', 'A', 'A']"
      ]
     },
     "execution_count": 2,
     "metadata": {},
     "output_type": "execute_result"
    }
   ],
   "source": [
    "### example input \n",
    "dna = \"ATGCTTACGA\"\n",
    "### expected output\n",
    "['A', 'A', 'A']\n",
    " \n"
   ]
  },
  {
   "cell_type": "code",
   "execution_count": null,
   "id": "a73d6936-f1b2-4706-bbfe-e81a62d16f2c",
   "metadata": {},
   "outputs": [],
   "source": []
  },
  {
   "cell_type": "markdown",
   "id": "50561778-0807-48b5-a934-cfe08f3d1ae0",
   "metadata": {},
   "source": [
    "## Exercise 2: \n",
    "### DNA sequences can have mutations, but some positions remain unchanged. \n",
    "### In this exercise, identify and store the positions where the nucleotides are the same and where are different in both sequences.\n",
    "* Use a function to get the list of similarities and of the mutations.\n",
    "* Use a dictionary do store the information.\n"
   ]
  },
  {
   "cell_type": "code",
   "execution_count": 3,
   "id": "631e5242-3740-4f66-88f1-13a4569b7616",
   "metadata": {},
   "outputs": [],
   "source": [
    "### HINT\n",
    "# Take two DNA sequences as input (strings of A, T, C, G).\n",
    "# Use a for loop to compare them position by position.\n",
    "# Store positions where nucleotides are identical.\n",
    "# Return a list of positions with matching nucleotides."
   ]
  },
  {
   "cell_type": "code",
   "execution_count": 4,
   "id": "cfe47052-0cb0-4d6e-8de0-77d9d75a40d4",
   "metadata": {},
   "outputs": [],
   "source": [
    "### original_dna = \"ATGCGTAC\"\n",
    "original_dna = \"ATGCGTAC\"\n",
    "mutated_dna =  \"ATGAGTTC\"\n",
    "\n",
    "# expected output\n",
    "# Matching positions: [1, 2, 3, 6]\n"
   ]
  },
  {
   "cell_type": "code",
   "execution_count": 5,
   "id": "5e4b1679-2ef4-4bdc-bfca-f299d0eec10d",
   "metadata": {},
   "outputs": [
    {
     "name": "stdout",
     "output_type": "stream",
     "text": [
      "A A\n",
      "T T\n",
      "G G\n",
      "C A\n",
      "G G\n",
      "T T\n",
      "A T\n",
      "C C\n",
      "12355\n",
      "8\n"
     ]
    }
   ],
   "source": [
    "for i, j in zip(original_dna, mutated_dna):  # without zip wont work!\n",
    "    print(i, j)   # if  i == j:  \n",
    "                  #     do something \n",
    "                  # else:\n",
    "                  #     do something else\n",
    "\n",
    "output = {'mutated': 1, 'wild': 8}\n",
    "\n",
    "output['mutated'] = output['mutated'] + 12354 \n",
    "\n",
    "print(output['mutated'])\n",
    "\n",
    "print(output['wild'])"
   ]
  },
  {
   "cell_type": "code",
   "execution_count": 6,
   "id": "34db1b08-6f41-4699-b69e-6eced9d3950a",
   "metadata": {},
   "outputs": [
    {
     "name": "stdout",
     "output_type": "stream",
     "text": [
      "2 G\n",
      "3 A\n",
      "5 T\n"
     ]
    }
   ],
   "source": [
    "result = [2, 3, 5]\n",
    "\n",
    "mutated_dna =  \"A T G A G T T C\"\n",
    "#               0 1 2 3 4 5 6 7 \n",
    "\n",
    "for i in result:\n",
    "    print(i, mutated_dna[i])"
   ]
  },
  {
   "cell_type": "code",
   "execution_count": 23,
   "id": "66cf6dfe-fc01-4e6d-ba4e-27438f8371ea",
   "metadata": {},
   "outputs": [
    {
     "name": "stdout",
     "output_type": "stream",
     "text": [
      "(42, 5, 16)\n"
     ]
    }
   ],
   "source": [
    "def my_first_stupid_function(a, b, c):   \n",
    "    b = a\n",
    "    c = 5\n",
    "    d = 16\n",
    "    return b, c, d\n",
    "\n",
    "output = my_first_stupid_function(a=42, b=1, c=3) \n",
    "\n",
    "print(output)\n"
   ]
  },
  {
   "cell_type": "code",
   "execution_count": 27,
   "id": "02c8f2f1-1373-4d70-84fc-615b5ee9b330",
   "metadata": {},
   "outputs": [
    {
     "name": "stdout",
     "output_type": "stream",
     "text": [
      "(1, 5, 16)\n"
     ]
    }
   ],
   "source": [
    "def my_second_stupid_function(aa, a=1, b=2, c=3):   \n",
    "    b = a\n",
    "    c = 5\n",
    "    d = 16\n",
    "    return b, c, d  \n",
    "\n",
    "output = my_second_stupid_function(aa=4) \n",
    "\n",
    "print(output)\n"
   ]
  },
  {
   "cell_type": "code",
   "execution_count": null,
   "id": "f75eaae2-4077-49b5-a2f1-b3c930ecc514",
   "metadata": {},
   "outputs": [],
   "source": []
  },
  {
   "cell_type": "code",
   "execution_count": 37,
   "id": "3d251bff-5202-42eb-bb74-0287bf515304",
   "metadata": {},
   "outputs": [
    {
     "name": "stdout",
     "output_type": "stream",
     "text": [
      "[[2, 11, 14, 8, 2, 11, 14, 8], [False, False, False, True, False, False, False, True], 'some_info', 123]\n"
     ]
    }
   ],
   "source": [
    "\n",
    "# Here the method\n",
    "def my_first_sort_of_usefull_function(a_variable, another_one):\n",
    "    result_sum = []\n",
    "    result_bigger = []\n",
    "    for i, j in zip(a_variable, another_one):\n",
    "        # minilist = [i, j]\n",
    "        c = i + j\n",
    "        d = i > j\n",
    "        result_sum.append(c)\n",
    "        result_bigger.append(d)\n",
    "\n",
    "    save_me = 123\n",
    "    results = [result_sum, result_bigger, 'some_info', save_me]\n",
    "    return results\n",
    "\n",
    "\n",
    "# Here the execution\n",
    "a_variable = [1, 4, 6, 7]\n",
    "another_one = [1, 7, 8, 1]\n",
    "results = my_first_sort_of_usefull_function(a_variable, another_one)\n",
    "                                                  \n",
    "print(results)                   "
   ]
  },
  {
   "cell_type": "code",
   "execution_count": 40,
   "id": "f722b779-ee2b-4219-a578-2aa4bdfbca72",
   "metadata": {},
   "outputs": [
    {
     "name": "stdout",
     "output_type": "stream",
     "text": [
      "[[3], [False], 'some_info', 123]\n"
     ]
    }
   ],
   "source": [
    "def my_first_sort_of_usefull_function(only_one=[[1, 3, 9], [2, 3, 5]]):\n",
    "    result_sum = []\n",
    "    result_bigger = []\n",
    "    for i, j in zip(only_one[0], only_one[1]): \n",
    "        c = i + j\n",
    "        d = i > j\n",
    "        result_sum.append(c)\n",
    "        result_bigger.append(d)\n",
    " \n",
    "    save_me = 123\n",
    "    results = [result_sum, result_bigger, 'some_info', save_me]\n",
    "    return results\n",
    "\n",
    "# Here the execution \n",
    "\n",
    "results = my_first_sort_of_usefull_function()\n",
    "                                            \n",
    "print(results)"
   ]
  },
  {
   "cell_type": "code",
   "execution_count": 48,
   "id": "ba6f2a58-612f-4929-a2de-510b8f4472a4",
   "metadata": {},
   "outputs": [
    {
     "name": "stdout",
     "output_type": "stream",
     "text": [
      "([2, 11, 14, 18, 130, 12, 17, 14, 131, 15, 13, 15, 134, 11, 14, 18, 130, 12, 17, 14, 131, 15, 13, 15, 134], [False, False, False, False, True, False, False, False, True, False, False, False, True, False, False, False, True, False, False, False, True, False, False, False, True])\n"
     ]
    }
   ],
   "source": [
    "a_variable = [1, 4, 6, 7, 123, 4, 6, 7, 123, 4, 6, 7, 123, 4, 6, 7, 123, 4, 6, 7, 123, 4, 6, 7, 123]\n",
    "another_one = [1, 7, 8, 11, 7, 8, 11, 7, 8, 11, 7, 8, 11, 7, 8, 11, 7, 8, 11, 7, 8, 11, 7, 8, 11, 7, 8, 1]\n",
    "\n",
    "\n",
    "results = my_first_sort_of_usefull_function(a_variable, another_one)\n",
    "                                            \n",
    "print(results)\n"
   ]
  },
  {
   "cell_type": "code",
   "execution_count": 42,
   "id": "05801cde-081e-49b1-b9af-75594cae4b7a",
   "metadata": {},
   "outputs": [
    {
     "name": "stdout",
     "output_type": "stream",
     "text": [
      "[False, False, False, False, True, False, False, False]\n"
     ]
    }
   ],
   "source": [
    "x = [1, 4, 6, 7, 123, 4, 6, 7]\n",
    "y = [1, 7, 8, 11, 7, 8, 11, 7]\n",
    "\n",
    "z = my_first_sort_of_usefull_function([x, y])\n",
    "                                            \n",
    "print(z[1]) "
   ]
  },
  {
   "cell_type": "code",
   "execution_count": null,
   "id": "7ff5ac0a-f9ee-4370-8d42-f0f3fccdc728",
   "metadata": {},
   "outputs": [],
   "source": []
  },
  {
   "cell_type": "markdown",
   "id": "a43efe6e-7fd2-47f2-9eb8-661ec4cff623",
   "metadata": {},
   "source": [
    "## Exercise 3: \n",
    "### Generate a random sequences of 8 nucleotides\n",
    "* make a function that takes as input the lenght of the sequence and that gives a random sequence of nucleotides.\n",
    "\n"
   ]
  },
  {
   "cell_type": "code",
   "execution_count": 58,
   "id": "c879af2d-773a-4b22-a4bd-d2c5c7e67a29",
   "metadata": {},
   "outputs": [],
   "source": [
    "import random \n",
    "\n",
    "original_dna = \"ATGCGTAC\"\n",
    "\n"
   ]
  },
  {
   "cell_type": "code",
   "execution_count": 43,
   "id": "bfeeb901-558c-4212-924c-fcc947c98324",
   "metadata": {},
   "outputs": [
    {
     "data": {
      "text/plain": [
       "'Q'"
      ]
     },
     "execution_count": 43,
     "metadata": {},
     "output_type": "execute_result"
    }
   ],
   "source": [
    "# This is an example on how to generate random letters.\n",
    "import random\n",
    "import string\n",
    "\n",
    "random.choice(string.ascii_uppercase)"
   ]
  },
  {
   "cell_type": "code",
   "execution_count": 4,
   "id": "3adb6356-adbd-4e56-83e2-3162841abca3",
   "metadata": {},
   "outputs": [],
   "source": [
    "def greet_me(a_world):\n",
    "    print('hello world') \n",
    "    \n",
    "    return 'bye', a_world\n",
    "    "
   ]
  },
  {
   "cell_type": "code",
   "execution_count": 5,
   "id": "e13b4424-ecda-4b18-a425-38b8d484e3f5",
   "metadata": {},
   "outputs": [
    {
     "name": "stdout",
     "output_type": "stream",
     "text": [
      "hello world\n",
      "('bye', 'ciaoooo')\n"
     ]
    }
   ],
   "source": [
    "the_outcome = greet_me(a_world='ciaoooo')\n",
    "print(the_outcome)\n"
   ]
  },
  {
   "cell_type": "code",
   "execution_count": 55,
   "id": "96a2b640-11d9-4b3f-903c-314f79942b39",
   "metadata": {},
   "outputs": [],
   "source": [
    "class My_first_class:\n",
    "    def __init__(self, a_world, input2, in3, in4, more_info):\n",
    "        print('I am constructing your class here')  \n",
    "        self.a_world = a_world\n",
    "        self.blue_box = input2\n",
    "        self.another_name = in3\n",
    "        self.save_my_fav_number = 16\n",
    "        self.more_things = more_info\n",
    "            \n",
    "    def greet_me(self, another_world):\n",
    "        # print('hello world') \n",
    "        return 'bye', another_world\n",
    "        \n"
   ]
  },
  {
   "cell_type": "code",
   "execution_count": 57,
   "id": "ba5bdd67-a54b-44e7-817e-ad2349fb31d0",
   "metadata": {},
   "outputs": [
    {
     "name": "stdout",
     "output_type": "stream",
     "text": [
      "I am constructing your class here\n"
     ]
    }
   ],
   "source": [
    "a_box_for_a_class = My_first_class(a_world='Ciao', input2=5321312321312, in3=1, in4=2, more_info='to show how it works')"
   ]
  },
  {
   "cell_type": "code",
   "execution_count": 58,
   "id": "7cd68f56-682e-4c15-9e39-b290e4f52e1f",
   "metadata": {},
   "outputs": [
    {
     "name": "stdout",
     "output_type": "stream",
     "text": [
      "16\n"
     ]
    }
   ],
   "source": [
    "print(a_box_for_a_class.save_my_fav_number)"
   ]
  },
  {
   "cell_type": "code",
   "execution_count": 60,
   "id": "f39435be-92da-488a-b9bc-5fc2abfc9712",
   "metadata": {},
   "outputs": [],
   "source": [
    "answer = a_box_for_a_class.greet_me(another_world=16)"
   ]
  },
  {
   "cell_type": "code",
   "execution_count": 61,
   "id": "a4ac665b-f3bf-481b-97c7-262f23b4cabf",
   "metadata": {},
   "outputs": [
    {
     "name": "stdout",
     "output_type": "stream",
     "text": [
      "('bye', 16)\n"
     ]
    }
   ],
   "source": [
    "print(answer)\n"
   ]
  },
  {
   "cell_type": "code",
   "execution_count": 77,
   "id": "ca132091-445e-4716-b96a-67562a521131",
   "metadata": {},
   "outputs": [],
   "source": [
    "import random\n",
    "\n",
    "class Seq_generator:\n",
    "    def __init__(self, len, info=\"Sequencer\"):\n",
    "        self.info = info\n",
    "        self.len = len \n",
    "    \n",
    "    def generate_random_seqs(self, n_seq):\n",
    "        seqs = [ ]\n",
    "        for i in range(n_seq):\n",
    "            seq = self.generate_random_seq()\n",
    "            seqs.append(seq)\n",
    "            seqs.append('AAAAAAAAAAAAA')\n",
    "        return seqs\n",
    "    \n",
    "    def generate_random_seq(self):\n",
    "        seq = ''\n",
    "        for i in range(self.len): \n",
    "            seq = seq + 's' + random.choice(['A', 'T', 'G', 'C'])\n",
    "        return seq\n",
    "\n",
    "    def give_me_five(self):\n",
    "        # print(self.original_dna)\n",
    "        return 5"
   ]
  },
  {
   "cell_type": "code",
   "execution_count": 78,
   "id": "a310895b-4684-47ed-8be3-bc6379fa7887",
   "metadata": {},
   "outputs": [],
   "source": [
    "genio = Seq_generator(len = 3)"
   ]
  },
  {
   "cell_type": "code",
   "execution_count": 82,
   "id": "154ae1bf-ad73-46bb-982b-7b2bde8d90f7",
   "metadata": {},
   "outputs": [
    {
     "name": "stdout",
     "output_type": "stream",
     "text": [
      "['ATC', 'CAC', 'GTA', 'GCG', 'CAT', 'CGC', 'ATG', 'CGG', 'GTT', 'GAA', 'AAT', 'GCA', 'GTG', 'TAG', 'ACA', 'CTG', 'CTA', 'AAC', 'CCG', 'TAA', 'AAC', 'GAT', 'GGA', 'AAC', 'TCC', 'CCA', 'TAC', 'AAC', 'GGG', 'TGC', 'TCT', 'AAG', 'TTC', 'AGT', 'GCG', 'GAA', 'TTT', 'TTC', 'GAC', 'ACG', 'CAA', 'CAA', 'CCA', 'GTG', 'GCC', 'TCT', 'AAA', 'AGT', 'CAC', 'ATG', 'TTC', 'GCA', 'CAG', 'AAA', 'GAC', 'CCA', 'GCA', 'CTT', 'TTT', 'CGA', 'ACT', 'TAG', 'GTC', 'TGG', 'GGT', 'ATA', 'TAT', 'GCG', 'GAT', 'AAT', 'GCT', 'TGT', 'TTG', 'GGA', 'GCA', 'CGT', 'TAA', 'AAT', 'CGG', 'GTA', 'TGT', 'ACC', 'CCA', 'GCA', 'GGC', 'GTG', 'TCT', 'GCT', 'GTC', 'ATT', 'CTT', 'GTA', 'CGA', 'ACG', 'GGG', 'CTT', 'AAC', 'AAT', 'CGT', 'ACG', 'CCA', 'ATA', 'ATA', 'GAT', 'TGA', 'AGC', 'GAT', 'ATA', 'TGG']\n"
     ]
    }
   ],
   "source": [
    "sequences = genio.generate_random_seqs(n_seq=109)\n",
    "\n",
    "print(sequences)"
   ]
  },
  {
   "cell_type": "markdown",
   "id": "7c7a52df-6176-4b2a-8f22-4fde9871cf19",
   "metadata": {},
   "source": [
    "## Exercise 4: \n",
    "### Generate 10000 sequences of 3 nucleotides\n",
    " * Use the function of exercise 3 in a for loop."
   ]
  },
  {
   "cell_type": "markdown",
   "id": "94aaea69-3c41-46fa-a45c-6223bf164425",
   "metadata": {},
   "source": [
    "## Exercise 5:\n",
    "### Construct a dictionary where each sequence of nucleotide  is a key and its count is the value."
   ]
  },
  {
   "cell_type": "code",
   "execution_count": 83,
   "id": "a5cec4fc-d72c-4431-8679-de91b4275d8e",
   "metadata": {},
   "outputs": [
    {
     "name": "stdout",
     "output_type": "stream",
     "text": [
      "A\n",
      "T\n",
      "G\n",
      "C\n"
     ]
    }
   ],
   "source": [
    "for i in ['A', 'T', 'G', 'C']:\n",
    "    print(i)"
   ]
  },
  {
   "cell_type": "code",
   "execution_count": 85,
   "id": "7739aaf7-1630-41fe-bbb7-6ca3dfd21ade",
   "metadata": {},
   "outputs": [
    {
     "name": "stdout",
     "output_type": "stream",
     "text": [
      "AA\n",
      "AT\n",
      "AG\n",
      "AC\n",
      "TA\n",
      "TT\n",
      "TG\n",
      "TC\n",
      "GA\n",
      "GT\n",
      "GG\n",
      "GC\n",
      "CA\n",
      "CT\n",
      "CG\n",
      "CC\n"
     ]
    }
   ],
   "source": [
    "for i in ['A', 'T', 'G', 'C']:\n",
    "    for j in ['A', 'T', 'G', 'C']:\n",
    "        print(i+j)"
   ]
  },
  {
   "cell_type": "code",
   "execution_count": 86,
   "id": "c4b0ff0a-0be2-4da2-9838-64baf04a2371",
   "metadata": {},
   "outputs": [
    {
     "name": "stdout",
     "output_type": "stream",
     "text": [
      "AAA\n",
      "AAT\n",
      "AAG\n",
      "AAC\n",
      "ATA\n",
      "ATT\n",
      "ATG\n",
      "ATC\n",
      "AGA\n",
      "AGT\n",
      "AGG\n",
      "AGC\n",
      "ACA\n",
      "ACT\n",
      "ACG\n",
      "ACC\n",
      "TAA\n",
      "TAT\n",
      "TAG\n",
      "TAC\n",
      "TTA\n",
      "TTT\n",
      "TTG\n",
      "TTC\n",
      "TGA\n",
      "TGT\n",
      "TGG\n",
      "TGC\n",
      "TCA\n",
      "TCT\n",
      "TCG\n",
      "TCC\n",
      "GAA\n",
      "GAT\n",
      "GAG\n",
      "GAC\n",
      "GTA\n",
      "GTT\n",
      "GTG\n",
      "GTC\n",
      "GGA\n",
      "GGT\n",
      "GGG\n",
      "GGC\n",
      "GCA\n",
      "GCT\n",
      "GCG\n",
      "GCC\n",
      "CAA\n",
      "CAT\n",
      "CAG\n",
      "CAC\n",
      "CTA\n",
      "CTT\n",
      "CTG\n",
      "CTC\n",
      "CGA\n",
      "CGT\n",
      "CGG\n",
      "CGC\n",
      "CCA\n",
      "CCT\n",
      "CCG\n",
      "CCC\n"
     ]
    }
   ],
   "source": [
    "for i in ['A', 'T', 'G', 'C']:\n",
    "    for j in ['A', 'T', 'G', 'C']:\n",
    "        for k in ['A', 'T', 'G', 'C']:\n",
    "            print(i+j+k)"
   ]
  },
  {
   "cell_type": "code",
   "execution_count": 94,
   "id": "9b0d42ff-fa31-47e0-80f7-974c0a5e6b60",
   "metadata": {},
   "outputs": [],
   "source": [
    "# a list_ = [value_1, value_2, value_3 ...]\n",
    "\n",
    "# seqs_dictionary = {'key_1' : value_1,\n",
    "#                    'key_2' : value_2,\n",
    "#                    'key_3' : value_3,\n",
    "#                    'key_4' : value_4,\n",
    "#                    ...\n",
    "#                   } \n",
    "\n",
    "seqs_dictionary = {} \n",
    "seqs_dictionary['AAA'] = 0  \n",
    "seqs_dictionary['AAT'] = 0   \n",
    "seqs_dictionary['AAG'] = 0   \n",
    "seqs_dictionary['AAC'] = 0   \n",
    "\n",
    "# This is the same as:\n",
    "seqs_dictionary = {'AAA': 0, \n",
    "                   'AAT': 0,\n",
    "                   'AAG': 0,\n",
    "                   'AAC': 0}\n",
    "\n"
   ]
  },
  {
   "cell_type": "code",
   "execution_count": 95,
   "id": "8bc411f8-6349-44c2-97b7-88df55105fdf",
   "metadata": {},
   "outputs": [
    {
     "data": {
      "text/plain": [
       "{'AAA': 0, 'AAT': 0, 'AAG': 0, 'AAC': 0}"
      ]
     },
     "execution_count": 95,
     "metadata": {},
     "output_type": "execute_result"
    }
   ],
   "source": [
    "seqs_dictionary"
   ]
  },
  {
   "cell_type": "code",
   "execution_count": 109,
   "id": "bb038cef-2d7e-4836-b571-d58d8acd6c33",
   "metadata": {},
   "outputs": [],
   "source": []
  },
  {
   "cell_type": "code",
   "execution_count": null,
   "id": "4c3c1e8b-98c5-42a6-95fa-c799e14f4a56",
   "metadata": {},
   "outputs": [],
   "source": [
    " "
   ]
  },
  {
   "cell_type": "code",
   "execution_count": 110,
   "id": "ba9fb0cf-2391-4649-b824-b516aabd98ac",
   "metadata": {},
   "outputs": [
    {
     "name": "stdout",
     "output_type": "stream",
     "text": [
      "TCA\n"
     ]
    }
   ],
   "source": [
    "Seqs_dictionary = {} \n",
    "for i in ['A', 'T', 'G', 'C']:\n",
    "    for j in ['A', 'T', 'G', 'C']:\n",
    "        for k in ['A', 'T', 'G', 'C']:\n",
    "            seq_name = i + j + k\n",
    "            seqs_dictionary[seq_name] = 0\n",
    "            \n",
    "\n",
    "seq = genio.generate_random_seq()\n",
    "print(seq)\n",
    "seqs_dictionary[seq] = seqs_dictionary[seq] + 1"
   ]
  },
  {
   "cell_type": "code",
   "execution_count": 111,
   "id": "16bf97d5-9833-4e07-857c-f05ed3797d74",
   "metadata": {},
   "outputs": [
    {
     "data": {
      "text/plain": [
       "{'AAA': 0,\n",
       " 'AAT': 0,\n",
       " 'AAG': 0,\n",
       " 'AAC': 0,\n",
       " 'ATA': 0,\n",
       " 'ATT': 0,\n",
       " 'ATG': 0,\n",
       " 'ATC': 0,\n",
       " 'AGA': 0,\n",
       " 'AGT': 0,\n",
       " 'AGG': 0,\n",
       " 'AGC': 0,\n",
       " 'ACA': 0,\n",
       " 'ACT': 0,\n",
       " 'ACG': 0,\n",
       " 'ACC': 0,\n",
       " 'TAA': 0,\n",
       " 'TAT': 0,\n",
       " 'TAG': 0,\n",
       " 'TAC': 0,\n",
       " 'TTA': 0,\n",
       " 'TTT': 0,\n",
       " 'TTG': 0,\n",
       " 'TTC': 0,\n",
       " 'TGA': 0,\n",
       " 'TGT': 0,\n",
       " 'TGG': 0,\n",
       " 'TGC': 0,\n",
       " 'TCA': 1,\n",
       " 'TCT': 0,\n",
       " 'TCG': 0,\n",
       " 'TCC': 0,\n",
       " 'GAA': 0,\n",
       " 'GAT': 0,\n",
       " 'GAG': 0,\n",
       " 'GAC': 0,\n",
       " 'GTA': 0,\n",
       " 'GTT': 0,\n",
       " 'GTG': 0,\n",
       " 'GTC': 0,\n",
       " 'GGA': 0,\n",
       " 'GGT': 0,\n",
       " 'GGG': 0,\n",
       " 'GGC': 0,\n",
       " 'GCA': 0,\n",
       " 'GCT': 0,\n",
       " 'GCG': 0,\n",
       " 'GCC': 0,\n",
       " 'CAA': 0,\n",
       " 'CAT': 0,\n",
       " 'CAG': 0,\n",
       " 'CAC': 0,\n",
       " 'CTA': 0,\n",
       " 'CTT': 0,\n",
       " 'CTG': 0,\n",
       " 'CTC': 0,\n",
       " 'CGA': 0,\n",
       " 'CGT': 0,\n",
       " 'CGG': 0,\n",
       " 'CGC': 0,\n",
       " 'CCA': 0,\n",
       " 'CCT': 0,\n",
       " 'CCG': 0,\n",
       " 'CCC': 0}"
      ]
     },
     "execution_count": 111,
     "metadata": {},
     "output_type": "execute_result"
    }
   ],
   "source": [
    "seqs_dictionary"
   ]
  },
  {
   "cell_type": "code",
   "execution_count": null,
   "id": "585b243f-b0f6-4d02-bddb-2b510e868c22",
   "metadata": {},
   "outputs": [],
   "source": []
  },
  {
   "cell_type": "code",
   "execution_count": 113,
   "id": "93a6736a-74fc-4e0b-951d-121993a4d327",
   "metadata": {},
   "outputs": [
    {
     "name": "stdout",
     "output_type": "stream",
     "text": [
      "{'AAA': 14, 'AAT': 18, 'AAG': 15, 'AAC': 13, 'ATA': 14, 'ATT': 14, 'ATG': 15, 'ATC': 19, 'AGA': 11, 'AGT': 15, 'AGG': 13, 'AGC': 15, 'ACA': 13, 'ACT': 14, 'ACG': 19, 'ACC': 13, 'TAA': 16, 'TAT': 9, 'TAG': 18, 'TAC': 17, 'TTA': 14, 'TTT': 15, 'TTG': 11, 'TTC': 16, 'TGA': 11, 'TGT': 18, 'TGG': 14, 'TGC': 17, 'TCA': 13, 'TCT': 11, 'TCG': 17, 'TCC': 17, 'GAA': 18, 'GAT': 11, 'GAG': 13, 'GAC': 27, 'GTA': 17, 'GTT': 11, 'GTG': 16, 'GTC': 23, 'GGA': 18, 'GGT': 18, 'GGG': 12, 'GGC': 18, 'GCA': 11, 'GCT': 14, 'GCG': 11, 'GCC': 20, 'CAA': 23, 'CAT': 13, 'CAG': 13, 'CAC': 15, 'CTA': 21, 'CTT': 12, 'CTG': 18, 'CTC': 15, 'CGA': 12, 'CGT': 17, 'CGG': 20, 'CGC': 23, 'CCA': 13, 'CCT': 18, 'CCG': 20, 'CCC': 20}\n"
     ]
    }
   ],
   "source": [
    "seq_dict = {}\n",
    "\n",
    "for i in ['A', 'T', 'G', 'C']:\n",
    "    for j in ['A', 'T', 'G', 'C']:\n",
    "        for k in ['A', 'T', 'G', 'C']:\n",
    "            seq_dict[i+j+k] = 0\n",
    "            \n",
    "\n",
    "for i in range(1000):\n",
    "    seq = genio.generate_random_seq()\n",
    "    seq_dict[seq] = seq_dict[seq] + 1\n",
    "    # seq_dict[seq] = seq_dict.get(seq, 0) + 1\n",
    "\n",
    "print(seq_dict)"
   ]
  },
  {
   "cell_type": "markdown",
   "id": "82abfb6e-6373-4ec6-ab6c-94fa0dc1752e",
   "metadata": {},
   "source": [
    "## Exercise 6:\n",
    "### Make an histogram of the nucleotides"
   ]
  },
  {
   "cell_type": "code",
   "execution_count": 83,
   "id": "1c29c83e-f588-444a-8a98-85ce660eda39",
   "metadata": {},
   "outputs": [
    {
     "data": {
      "text/plain": [
       "<BarContainer object of 4 artists>"
      ]
     },
     "execution_count": 83,
     "metadata": {},
     "output_type": "execute_result"
    },
    {
     "data": {
      "image/png": "[encoded data removed]",
      "text/plain": [
       "<Figure size 640x480 with 1 Axes>"
      ]
     },
     "metadata": {},
     "output_type": "display_data"
    }
   ],
   "source": [
    "# tip: this is how you build a histogram \n",
    "import matplotlib.pyplot as plt \n",
    "\n",
    "myDictionary= {'a': 5, \n",
    "               'b': 7, \n",
    "               'c': 9, \n",
    "               'd': 1}\n",
    "plt.bar(myDictionary.keys(), myDictionary.values(), color='g')\n"
   ]
  },
  {
   "cell_type": "code",
   "execution_count": 84,
   "id": "4bc2496a-c4c0-4bea-b49c-a5ecd38c7186",
   "metadata": {},
   "outputs": [
    {
     "data": {
      "text/plain": [
       "<BarContainer object of 64 artists>"
      ]
     },
     "execution_count": 84,
     "metadata": {},
     "output_type": "execute_result"
    },
    {
     "data": {
      "image/png": "[encoded data removed]",
      "text/plain": [
       "<Figure size 600x1600 with 1 Axes>"
      ]
     },
     "metadata": {},
     "output_type": "display_data"
    }
   ],
   "source": [
    "# tip: this is how you build a histogram \n",
    "import matplotlib.pyplot as plt \n",
    "\n",
    "# make it pretty\n",
    "fig = plt.subplots(figsize =(6, 16)) \n",
    "plt.barh(seq_dict.keys(), seq_dict.values(), color='g')\n"
   ]
  },
  {
   "cell_type": "code",
   "execution_count": null,
   "id": "0fea0010-f20d-4a3f-a5f1-d44f6084814e",
   "metadata": {},
   "outputs": [],
   "source": [
    "\n",
    "\n",
    "\n",
    "\n"
   ]
  },
  {
   "cell_type": "code",
   "execution_count": 115,
   "id": "045035ae-c3ab-4006-b3a2-08ed4cbbfb3a",
   "metadata": {},
   "outputs": [],
   "source": [
    "1. Construct a variable that contains 16 randomly selected nucleotides (that is a sequence).\n",
    "2. Generate a list of 50 sequences generated in point 1.1\n",
    "3. Write a function to do point 1.2\n",
    "4. Use the function 1.3 to generate two lists of 10000 sequences.\n",
    "5. Make a function that compare the two lists generated in point 1.4 and gives how many sequences are present in both lists\n",
    "6. Save in a dictionary the sequences are present in both lists and how many times the sequences are present in both lists \n",
    "7. Make an histogram with the list of 1.6\n",
    "8. Construct a class that contains the methods you generated in the points 3 to 7\n",
    "9. Use the class written in point 8 to make the histogram of point 7\n"
   ]
  },
  {
   "cell_type": "code",
   "execution_count": 116,
   "id": "3f2f7c98-d81e-47c9-b905-c9a5c0673022",
   "metadata": {},
   "outputs": [],
   "source": [
    "# Exercise 2:\n"
   ]
  },
  {
   "cell_type": "code",
   "execution_count": null,
   "id": "4c55e1e1-8f73-4d2a-9f64-a612ef991085",
   "metadata": {},
   "outputs": [],
   "source": [
    "# Exercise 3:"
   ]
  }
 ],
 "metadata": {
  "kernelspec": {
   "display_name": "Python 3 (ipykernel)",
   "language": "python",
   "name": "python3"
  },
  "language_info": {
   "codemirror_mode": {
    "name": "ipython",
    "version": 3
   },
   "file_extension": ".py",
   "mimetype": "text/x-python",
   "name": "python",
   "nbconvert_exporter": "python",
   "pygments_lexer": "ipython3",
   "version": "3.11.11"
  }
 },
 "nbformat": 4,
 "nbformat_minor": 5
}
