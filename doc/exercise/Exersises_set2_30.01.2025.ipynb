{
 "cells": [
  {
   "cell_type": "markdown",
   "id": "ab88b7b1-5d60-4bd1-ad48-2ae64b1c1a79",
   "metadata": {},
   "source": [
    "## Exercise 1: \n",
    "### DNA sequences are composed of nucleotides A, T, C, and G. \n",
    "### In this exercise, extract and return a new list containing only the 'A' nucleotides from a DNA sequence using a for loop and a function."
   ]
  },
  {
   "cell_type": "code",
   "execution_count": 1,
   "id": "5fe8a12d-279a-4b00-b65d-30f6d4675182",
   "metadata": {},
   "outputs": [
    {
     "data": {
      "text/plain": [
       "['A', 'A', 'A']"
      ]
     },
     "execution_count": 1,
     "metadata": {},
     "output_type": "execute_result"
    }
   ],
   "source": [
    "### example input \n",
    "dna = \"ATGCTTACGA\"\n",
    "### expected output\n",
    "['A', 'A', 'A']\n",
    "\n"
   ]
  },
  {
   "cell_type": "markdown",
   "id": "50561778-0807-48b5-a934-cfe08f3d1ae0",
   "metadata": {},
   "source": [
    "## Exercise 2: \n",
    "### DNA sequences can have mutations, but some positions remain unchanged. \n",
    "### In this exercise, identify and store the positions where the nucleotides are the same and where are different in both sequences.\n",
    "* Use a function to get the list of similarities and of the mutations.\n",
    "* Use a dictionary do store the information.\n"
   ]
  },
  {
   "cell_type": "code",
   "execution_count": 2,
   "id": "631e5242-3740-4f66-88f1-13a4569b7616",
   "metadata": {},
   "outputs": [],
   "source": [
    "### HINT\n",
    "# Take two DNA sequences as input (strings of A, T, C, G).\n",
    "# Use a for loop to compare them position by position.\n",
    "# Store positions where nucleotides are identical.\n",
    "# Return a list of positions with matching nucleotides."
   ]
  },
  {
   "cell_type": "code",
   "execution_count": 3,
   "id": "cfe47052-0cb0-4d6e-8de0-77d9d75a40d4",
   "metadata": {},
   "outputs": [],
   "source": [
    "### original_dna = \"ATGCGTAC\"\n",
    "original_dna = \"ATGCGTAC\"\n",
    "mutated_dna =  \"ATGAGTTC\"\n",
    "\n",
    "# expected output\n",
    "# Matching positions: [1, 2, 3, 6]\n"
   ]
  },
  {
   "cell_type": "code",
   "execution_count": null,
   "id": "5e4b1679-2ef4-4bdc-bfca-f299d0eec10d",
   "metadata": {},
   "outputs": [],
   "source": []
  },
  {
   "cell_type": "markdown",
   "id": "a43efe6e-7fd2-47f2-9eb8-661ec4cff623",
   "metadata": {},
   "source": [
    "## Exercise 3: \n",
    "### Generate a random sequences of 8 nucleotides\n",
    "* make a function that takes as input the lenght of the sequence and that gives a random sequence of nucleotides.\n",
    "\n"
   ]
  },
  {
   "cell_type": "code",
   "execution_count": 13,
   "id": "bfeeb901-558c-4212-924c-fcc947c98324",
   "metadata": {},
   "outputs": [
    {
     "data": {
      "text/plain": [
       "'Z'"
      ]
     },
     "execution_count": 13,
     "metadata": {},
     "output_type": "execute_result"
    }
   ],
   "source": [
    "# This is an example on how to generate random letters.\n",
    "import random\n",
    "import string\n",
    "random.choice(string.ascii_uppercase)"
   ]
  },
  {
   "cell_type": "code",
   "execution_count": null,
   "id": "3adb6356-adbd-4e56-83e2-3162841abca3",
   "metadata": {},
   "outputs": [],
   "source": []
  },
  {
   "cell_type": "markdown",
   "id": "0b36c1aa-70a3-4d9d-a3a2-b3260bd73517",
   "metadata": {},
   "source": [
    "## Exercise 4: \n",
    "### Generate 10000 sequences of 3 nucleotides\n",
    " * Use the function of exercise 3 in a for loop."
   ]
  },
  {
   "cell_type": "code",
   "execution_count": null,
   "id": "f94df4cf-2a67-439f-b459-ae31146a1a0d",
   "metadata": {},
   "outputs": [],
   "source": []
  },
  {
   "cell_type": "markdown",
   "id": "94aaea69-3c41-46fa-a45c-6223bf164425",
   "metadata": {},
   "source": [
    "## Exercise 5:\n",
    "### Construct a dictionary where each nucleotide is a key and its count is the value."
   ]
  },
  {
   "cell_type": "code",
   "execution_count": null,
   "id": "93a6736a-74fc-4e0b-951d-121993a4d327",
   "metadata": {},
   "outputs": [],
   "source": []
  },
  {
   "cell_type": "markdown",
   "id": "82abfb6e-6373-4ec6-ab6c-94fa0dc1752e",
   "metadata": {},
   "source": [
    "## Exercise 6:\n",
    "### Make an histogram of the nucleotides"
   ]
  },
  {
   "cell_type": "code",
   "execution_count": 34,
   "id": "b37667e7-34de-41a0-9ab3-71702e0700c8",
   "metadata": {},
   "outputs": [],
   "source": []
  },
  {
   "cell_type": "code",
   "execution_count": 42,
   "id": "1c29c83e-f588-444a-8a98-85ce660eda39",
   "metadata": {},
   "outputs": [
    {
     "data": {
      "text/plain": [
       "<BarContainer object of 4 artists>"
      ]
     },
     "execution_count": 42,
     "metadata": {},
     "output_type": "execute_result"
    },
    {
     "data": {
      "image/png": "[encoded data removed]",
      "text/plain": [
       "<Figure size 640x480 with 1 Axes>"
      ]
     },
     "metadata": {},
     "output_type": "display_data"
    }
   ],
   "source": [
    "# tip: this is how you build a histogram \n",
    "import matplotlib.pyplot as plt \n",
    "\n",
    "myDictionary= {'a': 5, 'b': 7, 'c': 9, 'd': 1}\n",
    "plt.bar(myDictionary.keys(), myDictionary.values(), color='g')\n"
   ]
  },
  {
   "cell_type": "code",
   "execution_count": 46,
   "id": "4bc2496a-c4c0-4bea-b49c-a5ecd38c7186",
   "metadata": {},
   "outputs": [
    {
     "data": {
      "text/plain": [
       "<module 'matplotlib.pyplot' from '/home/enrico/Programs/miniconda3/envs/pypro/lib/python3.12/site-packages/matplotlib/pyplot.py'>"
      ]
     },
     "execution_count": 46,
     "metadata": {},
     "output_type": "execute_result"
    }
   ],
   "source": [
    "plt."
   ]
  },
  {
   "cell_type": "code",
   "execution_count": null,
   "id": "65538715-cb52-4647-93e3-5d0780203eb8",
   "metadata": {},
   "outputs": [],
   "source": []
  }
 ],
 "metadata": {
  "kernelspec": {
   "display_name": "Python 3 (ipykernel)",
   "language": "python",
   "name": "python3"
  },
  "language_info": {
   "codemirror_mode": {
    "name": "ipython",
    "version": 3
   },
   "file_extension": ".py",
   "mimetype": "text/x-python",
   "name": "python",
   "nbconvert_exporter": "python",
   "pygments_lexer": "ipython3",
   "version": "3.11.11"
  }
 },
 "nbformat": 4,
 "nbformat_minor": 5
}
