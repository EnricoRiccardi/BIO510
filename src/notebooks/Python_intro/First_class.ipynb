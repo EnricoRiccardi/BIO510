{
 "cells": [
  {
   "cell_type": "code",
   "execution_count": 2,
   "id": "f2b461dc-093b-49d4-8ac6-71e857099718",
   "metadata": {},
   "outputs": [],
   "source": [
    "a_list = [1, 2, 3]\n",
    "an_integer = 5\n",
    "a_string = 'Hi'\n",
    "\n"
   ]
  },
  {
   "cell_type": "code",
   "execution_count": 3,
   "id": "07dc5848-b347-4508-ae25-50c3ab794e64",
   "metadata": {},
   "outputs": [
    {
     "name": "stdout",
     "output_type": "stream",
     "text": [
      "[1, 2, 3]\n"
     ]
    }
   ],
   "source": [
    "print(a_list)"
   ]
  },
  {
   "cell_type": "code",
   "execution_count": 4,
   "id": "1f8c57a5-aed6-4eac-b96b-f4291c48fd1e",
   "metadata": {},
   "outputs": [],
   "source": [
    "a_list = ['hi', 'fdsfsa', 5]"
   ]
  },
  {
   "cell_type": "code",
   "execution_count": 5,
   "id": "9205a5cb-0068-4d6e-9551-97b594e76426",
   "metadata": {},
   "outputs": [
    {
     "name": "stdout",
     "output_type": "stream",
     "text": [
      "['hi', 'fdsfsa', 5]\n"
     ]
    }
   ],
   "source": [
    "print(a_list)"
   ]
  },
  {
   "cell_type": "code",
   "execution_count": 6,
   "id": "935543a5-e95f-47e3-980d-57693790b24e",
   "metadata": {},
   "outputs": [],
   "source": [
    "a_list = [['hi', 'fdsfsa', 5], ['hi', 'fdsfsa', 5], ['hi', 'fdsfsa', 5]]"
   ]
  },
  {
   "cell_type": "code",
   "execution_count": 7,
   "id": "761a1afb-587e-40f0-9f1c-9d06b7dcc6a8",
   "metadata": {},
   "outputs": [],
   "source": [
    "#print(a_list)"
   ]
  },
  {
   "cell_type": "code",
   "execution_count": 8,
   "id": "0739a915-27df-4cae-97ca-cb382cf984a6",
   "metadata": {},
   "outputs": [],
   "source": [
    "another_lost = [[1, 2, 3], [1, 2, 3], [1, 2, 3]]"
   ]
  },
  {
   "cell_type": "code",
   "execution_count": 9,
   "id": "ba90d31c-7141-48e4-9acb-cd4fcc9374cb",
   "metadata": {},
   "outputs": [
    {
     "data": {
      "text/plain": [
       "1"
      ]
     },
     "execution_count": 9,
     "metadata": {},
     "output_type": "execute_result"
    }
   ],
   "source": [
    "another_lost[0][0]"
   ]
  },
  {
   "cell_type": "code",
   "execution_count": 10,
   "id": "bf868798-21c5-4f48-b5fb-2d4307412b9e",
   "metadata": {},
   "outputs": [
    {
     "data": {
      "text/plain": [
       "3"
      ]
     },
     "execution_count": 10,
     "metadata": {},
     "output_type": "execute_result"
    }
   ],
   "source": [
    "another_lost[1][2]"
   ]
  },
  {
   "cell_type": "code",
   "execution_count": 11,
   "id": "8d12ae0b-d16e-4b3f-b89d-e8d39b45ebcb",
   "metadata": {},
   "outputs": [],
   "source": [
    "# Here an example of how to compile a dictionary\n",
    "# a_dictionary = {'key_1': value_1, \n",
    "#                 'key_2': value_2, \n",
    "#                 'key_3': value_3}\n",
    "\n",
    "\n",
    "a_dictionary = {'key_1': a_list, \n",
    "                'key_2': an_integer, \n",
    "                'key_3': a_string}"
   ]
  },
  {
   "cell_type": "code",
   "execution_count": 12,
   "id": "a2fb02ad-8629-4414-a00c-1d7b486bb520",
   "metadata": {},
   "outputs": [
    {
     "name": "stdout",
     "output_type": "stream",
     "text": [
      "{'key_1': [['hi', 'fdsfsa', 5], ['hi', 'fdsfsa', 5], ['hi', 'fdsfsa', 5]], 'key_2': 5, 'key_3': 'Hi'}\n"
     ]
    }
   ],
   "source": [
    "print(a_dictionary)"
   ]
  },
  {
   "cell_type": "code",
   "execution_count": 13,
   "id": "9ffc7ad3-79d5-4259-8f38-0412bad7b359",
   "metadata": {},
   "outputs": [],
   "source": [
    "a_bad_list = [a_list, an_integer, a_string]"
   ]
  },
  {
   "cell_type": "code",
   "execution_count": 14,
   "id": "a6cf5eaa-b360-467a-91a6-415e957b6150",
   "metadata": {},
   "outputs": [
    {
     "data": {
      "text/plain": [
       "[[['hi', 'fdsfsa', 5], ['hi', 'fdsfsa', 5], ['hi', 'fdsfsa', 5]], 5, 'Hi']"
      ]
     },
     "execution_count": 14,
     "metadata": {},
     "output_type": "execute_result"
    }
   ],
   "source": [
    "a_bad_list"
   ]
  },
  {
   "cell_type": "code",
   "execution_count": 15,
   "id": "734bb805-7f78-463c-9ed6-38db4a7e2a29",
   "metadata": {},
   "outputs": [],
   "source": [
    "the_point_of_dicts = {'banana' : 5, 'cherries': 4}"
   ]
  },
  {
   "cell_type": "code",
   "execution_count": 16,
   "id": "936f501e-14bd-4d14-8975-dfb50b7b9e4a",
   "metadata": {},
   "outputs": [
    {
     "data": {
      "text/plain": [
       "{'banana': 5, 'cherries': 4}"
      ]
     },
     "execution_count": 16,
     "metadata": {},
     "output_type": "execute_result"
    }
   ],
   "source": [
    "the_point_of_dicts"
   ]
  },
  {
   "cell_type": "code",
   "execution_count": 17,
   "id": "b4806749-84fd-41b7-bed3-b0a9f962306f",
   "metadata": {},
   "outputs": [],
   "source": [
    "a_fruty_list = [5, 4]"
   ]
  },
  {
   "cell_type": "code",
   "execution_count": 18,
   "id": "af6dbfde-1d5d-42ac-ad7c-969d173c4e52",
   "metadata": {},
   "outputs": [
    {
     "data": {
      "text/plain": [
       "[5, 4]"
      ]
     },
     "execution_count": 18,
     "metadata": {},
     "output_type": "execute_result"
    }
   ],
   "source": [
    "a_fruty_list"
   ]
  },
  {
   "cell_type": "code",
   "execution_count": 20,
   "id": "318cd7ff-d606-497b-8729-ed370f51dd4e",
   "metadata": {},
   "outputs": [
    {
     "data": {
      "text/plain": [
       "[[1, 2, 3], 5, 'Hi']"
      ]
     },
     "execution_count": 20,
     "metadata": {},
     "output_type": "execute_result"
    }
   ],
   "source": [
    "a_list = [1, 2, 3]\n",
    "an_integer = 5\n",
    "a_string = 'Hi'\n",
    "\n",
    "a_bad_list = [a_list,\n",
    "              an_integer,\n",
    "              a_string]\n",
    "\n",
    "a_bad_list"
   ]
  },
  {
   "cell_type": "code",
   "execution_count": 31,
   "id": "513eb05a-8b7b-4584-a57a-8c1bf866dfa3",
   "metadata": {},
   "outputs": [
    {
     "data": {
      "text/plain": [
       "False"
      ]
     },
     "execution_count": 31,
     "metadata": {},
     "output_type": "execute_result"
    }
   ],
   "source": [
    "a_bad_list[2][1] == a_bad_list[2]"
   ]
  },
  {
   "cell_type": "code",
   "execution_count": 32,
   "id": "c7e6827d-7618-460d-a290-689082120f4d",
   "metadata": {},
   "outputs": [
    {
     "data": {
      "text/plain": [
       "True"
      ]
     },
     "execution_count": 32,
     "metadata": {},
     "output_type": "execute_result"
    }
   ],
   "source": [
    "a_bad_list[2][:] == a_bad_list[2]"
   ]
  },
  {
   "cell_type": "code",
   "execution_count": 33,
   "id": "f1da45aa-2fe6-42b4-b922-86891a2ee019",
   "metadata": {},
   "outputs": [
    {
     "data": {
      "text/plain": [
       "True"
      ]
     },
     "execution_count": 33,
     "metadata": {},
     "output_type": "execute_result"
    }
   ],
   "source": [
    "a_bad_list[2][1] in a_bad_list[2]"
   ]
  },
  {
   "cell_type": "code",
   "execution_count": 34,
   "id": "3465b8e3-bb9c-4869-8379-afddbaf9948f",
   "metadata": {},
   "outputs": [
    {
     "data": {
      "text/plain": [
       "True"
      ]
     },
     "execution_count": 34,
     "metadata": {},
     "output_type": "execute_result"
    }
   ],
   "source": [
    "'i' in 'hi'"
   ]
  },
  {
   "cell_type": "code",
   "execution_count": 38,
   "id": "a7d70582-8999-45a0-b421-518c07b6d2df",
   "metadata": {},
   "outputs": [],
   "source": [
    "a_variable = 2"
   ]
  },
  {
   "cell_type": "code",
   "execution_count": 39,
   "id": "11fb0dce-0bf2-4c39-9611-2f5ebef7bda2",
   "metadata": {},
   "outputs": [
    {
     "data": {
      "text/plain": [
       "False"
      ]
     },
     "execution_count": 39,
     "metadata": {},
     "output_type": "execute_result"
    }
   ],
   "source": [
    "a_variable == 1"
   ]
  },
  {
   "cell_type": "code",
   "execution_count": 40,
   "id": "d9247443-abe9-48ea-88df-fd84b7e794bc",
   "metadata": {},
   "outputs": [
    {
     "data": {
      "text/plain": [
       "2"
      ]
     },
     "execution_count": 40,
     "metadata": {},
     "output_type": "execute_result"
    }
   ],
   "source": [
    "a_variable"
   ]
  },
  {
   "cell_type": "code",
   "execution_count": 41,
   "id": "b7334d4e-0a82-4457-b0e0-3d1cbb6f5d19",
   "metadata": {},
   "outputs": [
    {
     "data": {
      "text/plain": [
       "True"
      ]
     },
     "execution_count": 41,
     "metadata": {},
     "output_type": "execute_result"
    }
   ],
   "source": [
    "5 > 4"
   ]
  },
  {
   "cell_type": "code",
   "execution_count": 42,
   "id": "c647c092-fd03-467a-bd7e-b5439e5788a6",
   "metadata": {},
   "outputs": [
    {
     "data": {
      "text/plain": [
       "True"
      ]
     },
     "execution_count": 42,
     "metadata": {},
     "output_type": "execute_result"
    }
   ],
   "source": [
    "5 < 8"
   ]
  },
  {
   "cell_type": "code",
   "execution_count": 46,
   "id": "768bee42-5997-4940-908b-715a0e82de98",
   "metadata": {},
   "outputs": [
    {
     "data": {
      "text/plain": [
       "(False, True, True, False, True)"
      ]
     },
     "execution_count": 46,
     "metadata": {},
     "output_type": "execute_result"
    }
   ],
   "source": [
    "5 >= 8, 5 <= 9, 8 == 8, 5 == 4, 'lol' in 'ololo'"
   ]
  },
  {
   "cell_type": "code",
   "execution_count": 51,
   "id": "18a62fe8-09cf-4bc6-8db7-a256f947dcf2",
   "metadata": {},
   "outputs": [
    {
     "data": {
      "text/plain": [
       "False"
      ]
     },
     "execution_count": 51,
     "metadata": {},
     "output_type": "execute_result"
    }
   ],
   "source": [
    "'now' in 'Is time for a break'"
   ]
  },
  {
   "cell_type": "code",
   "execution_count": 60,
   "id": "a4de9430-b4d7-4afc-be33-df26f01b0324",
   "metadata": {},
   "outputs": [
    {
     "name": "stdout",
     "output_type": "stream",
     "text": [
      "hi\n"
     ]
    }
   ],
   "source": [
    "if True:\n",
    "    print('hi')\n",
    "else:\n",
    "    print(' it was false')\n",
    "    "
   ]
  },
  {
   "cell_type": "code",
   "execution_count": 58,
   "id": "b86d05e4-ca04-43df-a671-22ec819e0c23",
   "metadata": {},
   "outputs": [
    {
     "name": "stdout",
     "output_type": "stream",
     "text": [
      "hi\n"
     ]
    }
   ],
   "source": [
    "a_variable = 1\n",
    "if a_variable == 1:\n",
    "    print('hi')\n",
    "else: \n",
    "    print('you are soooo wrong')"
   ]
  },
  {
   "cell_type": "code",
   "execution_count": 61,
   "id": "f54479ed-cef8-4b87-80f9-bd152fbbec16",
   "metadata": {},
   "outputs": [
    {
     "data": {
      "text/plain": [
       "True"
      ]
     },
     "execution_count": 61,
     "metadata": {},
     "output_type": "execute_result"
    }
   ],
   "source": [
    "a_variable == 1"
   ]
  },
  {
   "cell_type": "code",
   "execution_count": 69,
   "id": "8015d88f-4bb0-494c-8da8-2c76e9c7f38b",
   "metadata": {},
   "outputs": [
    {
     "name": "stdout",
     "output_type": "stream",
     "text": [
      "I am great\n",
      "and I am sleeping\n"
     ]
    }
   ],
   "source": [
    "a_variable = 2\n",
    "if a_variable == 1:\n",
    "    print('I am cool')\n",
    "    print('I am cool')\n",
    "    print('I am cool')\n",
    "    print('I am cool')\n",
    "elif a_variable == 2:\n",
    "    print('I am great')\n",
    "else: \n",
    "    print('I am even better that xxx')\n",
    "\n",
    "print('and I am sleeping')"
   ]
  },
  {
   "cell_type": "code",
   "execution_count": 70,
   "id": "f7baa644-c350-43df-a7d8-b4e7aaa270e7",
   "metadata": {},
   "outputs": [],
   "source": [
    "## A LOT OF ATTENTION HERE"
   ]
  },
  {
   "cell_type": "code",
   "execution_count": 71,
   "id": "81383730-51f9-4ca3-afa8-3d41e8834879",
   "metadata": {},
   "outputs": [],
   "source": [
    "#for/while"
   ]
  },
  {
   "cell_type": "code",
   "execution_count": 79,
   "id": "0d38c0b7-0d33-4f9f-8a65-2b305e7c551e",
   "metadata": {},
   "outputs": [
    {
     "name": "stdout",
     "output_type": "stream",
     "text": [
      "Hi there, I saw you 1  times\n",
      "Hi there, I saw you 2  times\n",
      "Hi there, I saw you 3  times\n",
      "Hi there, I saw you 7  times\n",
      "I made 4 iterations\n"
     ]
    }
   ],
   "source": [
    "counting = 0\n",
    "for i in 1, 2, 3, 7:\n",
    "    print('Hi there, I saw you', i, ' times')\n",
    "    counting = counting + 1\n",
    "print('I made', counting, 'iterations')"
   ]
  },
  {
   "cell_type": "code",
   "execution_count": 85,
   "id": "59542f93-2ff5-4ce2-a96a-069e96173051",
   "metadata": {},
   "outputs": [
    {
     "name": "stdout",
     "output_type": "stream",
     "text": [
      "Hi there, I saw you 1  times\n",
      "Hi there, I saw you 2  times\n",
      "Hi there, I saw you 3  times\n",
      "Hi there, I saw you 7  times\n",
      "Hi there, I saw you 7  times\n",
      "Hi there, I saw you 523  times\n",
      "Hi there, I saw you 423  times\n",
      "Hi there, I saw you 234  times\n",
      "Hi there, I saw you 234  times\n",
      "Hi there, I saw you 234  times\n",
      "Hi there, I saw you 234  times\n",
      "Hi there, I saw you 234  times\n",
      "Hi there, I saw you 234  times\n",
      "Hi there, I saw you 234  times\n",
      "Hi there, I saw you 34  times\n",
      "Hi there, I saw you tetrtr  times\n",
      "Hi there, I saw you 1234234  times\n",
      "Hi there, I saw you [23, 333]  times\n",
      "I made 18 iterations\n"
     ]
    }
   ],
   "source": [
    "a_list = 1, 2, 3, 7, 7, 523,423, 234 ,234 ,234 ,234 ,234 ,234 ,234, '34', 'tetrtr', 1234234 , [23, 333]\n",
    "counting = 0\n",
    "\n",
    "for i in a_list:\n",
    "    print('Hi there, I saw you', i, ' times')\n",
    "    counting = counting + 1\n",
    "print('I made', counting, 'iterations')"
   ]
  },
  {
   "cell_type": "code",
   "execution_count": 84,
   "id": "afd00a07-6c42-473c-8ec6-91b6c1d08bc1",
   "metadata": {},
   "outputs": [
    {
     "name": "stdout",
     "output_type": "stream",
     "text": [
      "7\n"
     ]
    }
   ],
   "source": [
    "counting = 0\n",
    "\n",
    "counting = counting + 1\n",
    "counting = counting + 1\n",
    "counting = counting + 1\n",
    "counting = counting + 1\n",
    "counting = counting + 1\n",
    "counting = counting + 1\n",
    "counting = counting + 1\n",
    "counting = counting + 1\n",
    "counting = counting + 1\n",
    "counting = counting + 1\n",
    "counting = counting + 1\n",
    "counting = counting + 1\n",
    "counting = counting + 1\n",
    "print(counting)"
   ]
  },
  {
   "cell_type": "code",
   "execution_count": 89,
   "id": "84e1a943-9dfc-48ec-a9f9-577628789bb9",
   "metadata": {},
   "outputs": [
    {
     "name": "stdout",
     "output_type": "stream",
     "text": [
      "Hi there, I saw you 1  times\n",
      "Hi there, I saw you 2  times\n",
      "Hi there, I saw you 3  times\n",
      "Hi there, I saw you 7  times\n",
      "I made 4 iterations, and your result is  2341\n"
     ]
    }
   ],
   "source": [
    "counting = 0\n",
    "multiply = 1\n",
    "for i in 1, 2, 3, 7:\n",
    "    print('Hi there, I saw you', i, ' times')\n",
    "    counting = counting + 1 \n",
    "    multiply = multiply + 234*counting\n",
    "print('I made', counting, 'iterations, and your result is ', multiply)\n"
   ]
  },
  {
   "cell_type": "code",
   "execution_count": 91,
   "id": "2ab87d1e-b802-4878-aa62-ead671e5f680",
   "metadata": {},
   "outputs": [
    {
     "name": "stdout",
     "output_type": "stream",
     "text": [
      "Hi there, I saw you 1  times\n",
      "Hi there, I saw you 2  times\n",
      "Hi there, I saw you 3  times\n",
      "Hi there, I saw you 7  times\n",
      "I made 4 iterations, and your result is  2341\n"
     ]
    }
   ],
   "source": [
    "counting = 0\n",
    "multiply = 1\n",
    "print('Hi there, I saw you', 1, ' times')\n",
    "counting = counting + 1    # 1 = 0 + 1\n",
    "multiply = multiply + 234*counting  # 235 = 1 + 234*1\n",
    "\n",
    "print('Hi there, I saw you', 2, ' times')\n",
    "counting = counting + 1    # 2 = 1 + 1\n",
    "multiply = multiply + 234*counting   # 703 = 235 + 234*2\n",
    "\n",
    "print('Hi there, I saw you', 3, ' times')\n",
    "counting = counting + 1 \n",
    "multiply = multiply + 234*counting\n",
    "\n",
    "print('Hi there, I saw you', 7, ' times')\n",
    "counting = counting + 1 \n",
    "multiply = multiply + 234*counting\n",
    "print('I made', counting, 'iterations, and your result is ', multiply)\n"
   ]
  },
  {
   "cell_type": "code",
   "execution_count": null,
   "id": "0f4ca260-18c7-49fd-bdd3-efb63dc83899",
   "metadata": {},
   "outputs": [],
   "source": []
  }
 ],
 "metadata": {
  "kernelspec": {
   "display_name": "Python 3 (ipykernel)",
   "language": "python",
   "name": "python3"
  },
  "language_info": {
   "codemirror_mode": {
    "name": "ipython",
    "version": 3
   },
   "file_extension": ".py",
   "mimetype": "text/x-python",
   "name": "python",
   "nbconvert_exporter": "python",
   "pygments_lexer": "ipython3",
   "version": "3.11.8"
  }
 },
 "nbformat": 4,
 "nbformat_minor": 5
}
