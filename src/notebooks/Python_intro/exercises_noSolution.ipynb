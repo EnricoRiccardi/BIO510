{
 "cells": [
  {
   "cell_type": "markdown",
   "id": "170b0999-269e-4050-81f1-57a107139161",
   "metadata": {},
   "source": [
    "#### Exercise 1: String Manipulations\n",
    "##### Given the string \"Hello, World!\"\n",
    "##### 1. Get the character at position 1 of the string \n",
    "##### 2. Get the characters from position 2 to position 5\n",
    "##### 3. Return the length of the string using a for loop\n",
    "##### 4. Return the position of the character \",\""
   ]
  },
  {
   "cell_type": "code",
   "execution_count": null,
   "id": "ff7f2656-1005-4312-92c4-f641a0e45b99",
   "metadata": {},
   "outputs": [],
   "source": [
    "\n",
    "\n",
    "\n",
    "\n"
   ]
  },
  {
   "cell_type": "markdown",
   "id": "03587b1b-6cb0-443f-af1f-adbf5ebbe686",
   "metadata": {},
   "source": [
    "#### Exercise 2: List and Dictionary Manipulations\n",
    "##### Given the following data structures:\n",
    "* molecules = [\"DNA\", \"RNA\", \"Protein\", \"mRNA\", \"tRNA\"]\n",
    "* molecular_weights = {\"DNA\": 650, \"RNA\": 340, \"Protein\": 110, \"mRNA\": 320, \"tRNA\": 350}\n",
    "1. Get the molecule at position 2 in the molecules list.\n",
    "2. Get the first three molecules from the molecules list.\n",
    "3. Calculate the molecular weight of all molecules in the molecular_weights dictionary using a for loop.\n",
    "4. Write a loop to find the key \"Protein\" in the molecular_weights dictionary and return its molecular weight. \n",
    "5. Calculate the total molecular weight of all molecules using a function defined by you."
   ]
  },
  {
   "cell_type": "code",
   "execution_count": null,
   "id": "ddd36f21-0e48-46c0-a41a-f08bd24beeb4",
   "metadata": {},
   "outputs": [],
   "source": []
  }
 ],
 "metadata": {
  "kernelspec": {
   "display_name": "Python 3 (ipykernel)",
   "language": "python",
   "name": "python3"
  },
  "language_info": {
   "codemirror_mode": {
    "name": "ipython",
    "version": 3
   },
   "file_extension": ".py",
   "mimetype": "text/x-python",
   "name": "python",
   "nbconvert_exporter": "python",
   "pygments_lexer": "ipython3",
   "version": "3.11.11"
  }
 },
 "nbformat": 4,
 "nbformat_minor": 5
}
