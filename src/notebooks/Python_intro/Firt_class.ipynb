{
 "cells": [
  {
   "cell_type": "code",
   "execution_count": 9,
   "id": "f2b461dc-093b-49d4-8ac6-71e857099718",
   "metadata": {},
   "outputs": [],
   "source": [
    "a_list = [1, 2, 3]\n",
    "an_integer = 5\n",
    "a_string = 'Hi'\n",
    "\n"
   ]
  },
  {
   "cell_type": "code",
   "execution_count": 11,
   "id": "07dc5848-b347-4508-ae25-50c3ab794e64",
   "metadata": {},
   "outputs": [
    {
     "data": {
      "text/plain": [
       "[1, 2, 3]"
      ]
     },
     "execution_count": 11,
     "metadata": {},
     "output_type": "execute_result"
    }
   ],
   "source": [
    "print(a_list)"
   ]
  },
  {
   "cell_type": "code",
   "execution_count": 19,
   "id": "1f8c57a5-aed6-4eac-b96b-f4291c48fd1e",
   "metadata": {},
   "outputs": [],
   "source": [
    "a_list = ['hi', 'fdsfsa', 5]"
   ]
  },
  {
   "cell_type": "code",
   "execution_count": 13,
   "id": "9205a5cb-0068-4d6e-9551-97b594e76426",
   "metadata": {},
   "outputs": [
    {
     "name": "stdout",
     "output_type": "stream",
     "text": [
      "['hi', 'fdsfsa', 5]\n"
     ]
    }
   ],
   "source": [
    "print(a_list)"
   ]
  },
  {
   "cell_type": "code",
   "execution_count": 14,
   "id": "935543a5-e95f-47e3-980d-57693790b24e",
   "metadata": {},
   "outputs": [],
   "source": [
    "a_list = [['hi', 'fdsfsa', 5], ['hi', 'fdsfsa', 5], ['hi', 'fdsfsa', 5]]"
   ]
  },
  {
   "cell_type": "code",
   "execution_count": 20,
   "id": "761a1afb-587e-40f0-9f1c-9d06b7dcc6a8",
   "metadata": {},
   "outputs": [
    {
     "name": "stdout",
     "output_type": "stream",
     "text": [
      "['hi', 'fdsfsa', 5]\n"
     ]
    }
   ],
   "source": [
    "#print(a_list)"
   ]
  },
  {
   "cell_type": "code",
   "execution_count": 21,
   "id": "0739a915-27df-4cae-97ca-cb382cf984a6",
   "metadata": {},
   "outputs": [],
   "source": [
    "another_lost = [[1, 2, 3], [1, 2, 3], [1, 2, 3]]"
   ]
  },
  {
   "cell_type": "code",
   "execution_count": 27,
   "id": "ba90d31c-7141-48e4-9acb-cd4fcc9374cb",
   "metadata": {},
   "outputs": [
    {
     "data": {
      "text/plain": [
       "1"
      ]
     },
     "execution_count": 27,
     "metadata": {},
     "output_type": "execute_result"
    }
   ],
   "source": [
    "another_lost[0][0]"
   ]
  },
  {
   "cell_type": "code",
   "execution_count": 28,
   "id": "bf868798-21c5-4f48-b5fb-2d4307412b9e",
   "metadata": {},
   "outputs": [
    {
     "data": {
      "text/plain": [
       "3"
      ]
     },
     "execution_count": 28,
     "metadata": {},
     "output_type": "execute_result"
    }
   ],
   "source": [
    "another_lost[1][2]"
   ]
  },
  {
   "cell_type": "code",
   "execution_count": 32,
   "id": "8d12ae0b-d16e-4b3f-b89d-e8d39b45ebcb",
   "metadata": {},
   "outputs": [],
   "source": [
    "# Here an example of how to compile a dictionary\n",
    "# a_dictionary = {'key_1': value_1, \n",
    "#                 'key_2': value_2, \n",
    "#                 'key_3': value_3}\n",
    "\n",
    "\n",
    "a_dictionary = {'key_1': a_list, \n",
    "                'key_2': an_integer, \n",
    "                'key_3': a_string}"
   ]
  },
  {
   "cell_type": "code",
   "execution_count": 34,
   "id": "a2fb02ad-8629-4414-a00c-1d7b486bb520",
   "metadata": {},
   "outputs": [
    {
     "name": "stdout",
     "output_type": "stream",
     "text": [
      "{'key_1': ['hi', 'fdsfsa', 5], 'key_2': 5, 'key_3': 'Hi'}\n"
     ]
    }
   ],
   "source": [
    "print(a_dictionary)"
   ]
  },
  {
   "cell_type": "code",
   "execution_count": 35,
   "id": "9ffc7ad3-79d5-4259-8f38-0412bad7b359",
   "metadata": {},
   "outputs": [],
   "source": [
    "a_bad_list = [a_list, an_integer, a_string]"
   ]
  },
  {
   "cell_type": "code",
   "execution_count": 36,
   "id": "a6cf5eaa-b360-467a-91a6-415e957b6150",
   "metadata": {},
   "outputs": [
    {
     "data": {
      "text/plain": [
       "[['hi', 'fdsfsa', 5], 5, 'Hi']"
      ]
     },
     "execution_count": 36,
     "metadata": {},
     "output_type": "execute_result"
    }
   ],
   "source": [
    "a_bad_list"
   ]
  },
  {
   "cell_type": "code",
   "execution_count": 37,
   "id": "734bb805-7f78-463c-9ed6-38db4a7e2a29",
   "metadata": {},
   "outputs": [],
   "source": [
    "the_point_of_dicts = {'banana' : 5, 'cherries': 4}"
   ]
  },
  {
   "cell_type": "code",
   "execution_count": 38,
   "id": "936f501e-14bd-4d14-8975-dfb50b7b9e4a",
   "metadata": {},
   "outputs": [
    {
     "data": {
      "text/plain": [
       "{'banana': 5, 'cherries': 4}"
      ]
     },
     "execution_count": 38,
     "metadata": {},
     "output_type": "execute_result"
    }
   ],
   "source": [
    "the_point_of_dicts"
   ]
  },
  {
   "cell_type": "code",
   "execution_count": 39,
   "id": "b4806749-84fd-41b7-bed3-b0a9f962306f",
   "metadata": {},
   "outputs": [],
   "source": [
    "a_frutiy_list = [5, 4]"
   ]
  },
  {
   "cell_type": "code",
   "execution_count": 40,
   "id": "af6dbfde-1d5d-42ac-ad7c-969d173c4e52",
   "metadata": {},
   "outputs": [
    {
     "data": {
      "text/plain": [
       "[5, 4]"
      ]
     },
     "execution_count": 40,
     "metadata": {},
     "output_type": "execute_result"
    }
   ],
   "source": [
    "a_frutiy_list"
   ]
  },
  {
   "cell_type": "code",
   "execution_count": null,
   "id": "318cd7ff-d606-497b-8729-ed370f51dd4e",
   "metadata": {},
   "outputs": [],
   "source": []
  }
 ],
 "metadata": {
  "kernelspec": {
   "display_name": "Python 3 (ipykernel)",
   "language": "python",
   "name": "python3"
  },
  "language_info": {
   "codemirror_mode": {
    "name": "ipython",
    "version": 3
   },
   "file_extension": ".py",
   "mimetype": "text/x-python",
   "name": "python",
   "nbconvert_exporter": "python",
   "pygments_lexer": "ipython3",
   "version": "3.11.8"
  }
 },
 "nbformat": 4,
 "nbformat_minor": 5
}
